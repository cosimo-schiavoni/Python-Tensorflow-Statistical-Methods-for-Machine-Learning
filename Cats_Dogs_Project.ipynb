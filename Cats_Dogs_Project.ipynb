{
  "cells": [
    {
      "cell_type": "markdown",
      "metadata": {
        "id": "view-in-github",
        "colab_type": "text"
      },
      "source": [
        "<a href=\"https://colab.research.google.com/github/cosimo-schiavoni/Statistical-Methods-for-Machine-Learning/blob/main/Cats_Dogs_Project.ipynb\" target=\"_parent\"><img src=\"https://colab.research.google.com/assets/colab-badge.svg\" alt=\"Open In Colab\"/></a>"
      ]
    },
    {
      "cell_type": "markdown",
      "source": [
        "Load necessary libraries."
      ],
      "metadata": {
        "id": "W3BFmFZWkThS"
      },
      "id": "W3BFmFZWkThS"
    },
    {
      "cell_type": "code",
      "source": [
        "import tensorflow as tf\n",
        "from keras.models import Sequential\n",
        "from keras.layers.core import Dense, Dropout, Activation\n",
        "from keras import optimizers, regularizers\n",
        "from functools import reduce\n",
        "from google.colab import files\n",
        "import numpy as np\n",
        "import matplotlib\n",
        "import matplotlib.pyplot as plt\n",
        "import matplotlib.image as mpimg\n",
        "import keras\n",
        "import pickle\n",
        "import shutil\n",
        "import random\n",
        "import skimage.io as io\n",
        "from copy import deepcopy\n",
        "from os import makedirs\n",
        "from shutil import rmtree\n",
        "from os.path import join\n",
        "from os import listdir, rmdir\n",
        "from shutil import move\n",
        "from PIL import Image\n",
        "from keras.preprocessing.image import ImageDataGenerator\n",
        "import sklearn.model_selection as sklrn\n",
        "import pandas as pd\n",
        "import os\n",
        "import zipfile"
      ],
      "metadata": {
        "id": "uI6gi1ZpNmIA"
      },
      "id": "uI6gi1ZpNmIA",
      "execution_count": null,
      "outputs": []
    },
    {
      "cell_type": "markdown",
      "source": [
        "Download the dataset from the remote repository."
      ],
      "metadata": {
        "id": "cb0xjB1DsnZN"
      },
      "id": "cb0xjB1DsnZN"
    },
    {
      "cell_type": "code",
      "source": [
        "os.environ[\"data_source\"] = \"./Cats_Dogs_data\"\n",
        "\n",
        "if not os.path.exists(os.environ[\"data_source\"]):\n",
        "  os.makedirs(os.environ[\"data_source\"])\n",
        "  if \"download\" not in os.listdir():\n",
        "    if \"download.zip\" not in os.listdir():\n",
        "      ! wget https://unimibox.unimi.it/index.php/s/eNGYGSYmqynNMqF/download/CatsDogs.zip\n",
        "      with zipfile.ZipFile(\"CatsDogs.zip\", 'r') as f:\n",
        "        f.extractall(\"CatsDogs\")\n",
        "    os.remove(\"CatsDogs.zip\")\n",
        "\n",
        "!mv \"./CatsDogs/CatsDogs/Cats\" \"./Cats_Dogs_data\"\n",
        "!mv \"./CatsDogs/CatsDogs/Dogs\" \"./Cats_Dogs_data\"\n",
        "\n",
        "!rm -rf CatsDogs"
      ],
      "metadata": {
        "colab": {
          "base_uri": "https://localhost:8080/"
        },
        "id": "4A8XXBVUU_o_",
        "outputId": "98166343-4b65-4c62-8fcc-b8cd35543459"
      },
      "id": "4A8XXBVUU_o_",
      "execution_count": null,
      "outputs": [
        {
          "output_type": "stream",
          "name": "stdout",
          "text": [
            "--2022-08-03 22:36:19--  https://unimibox.unimi.it/index.php/s/eNGYGSYmqynNMqF/download/CatsDogs.zip\n",
            "Resolving unimibox.unimi.it (unimibox.unimi.it)... 159.149.53.190\n",
            "Connecting to unimibox.unimi.it (unimibox.unimi.it)|159.149.53.190|:443... connected.\n",
            "HTTP request sent, awaiting response... 200 OK\n",
            "Length: unspecified [application/zip]\n",
            "Saving to: ‘CatsDogs.zip’\n",
            "\n",
            "CatsDogs.zip            [          <=>       ] 812.79M  1.51MB/s    in 3m 9s   \n",
            "\n",
            "2022-08-03 22:39:29 (4.29 MB/s) - ‘CatsDogs.zip’ saved [852272294]\n",
            "\n"
          ]
        }
      ]
    },
    {
      "cell_type": "markdown",
      "source": [
        "Convert images to RGB."
      ],
      "metadata": {
        "id": "3wc8pSLxknYl"
      },
      "id": "3wc8pSLxknYl"
    },
    {
      "cell_type": "code",
      "source": [
        "def check_channels(s_dir):\n",
        "    s_list= os.listdir(s_dir)\n",
        "    for klass in s_list:\n",
        "        klass_path=os.path.join (s_dir, klass)\n",
        "        if os.path.isdir(klass_path):\n",
        "            file_list=os.listdir(klass_path)\n",
        "            for f in file_list:     \n",
        "                try:\n",
        "                  f_path=os.path.join (klass_path,f)        \n",
        "                  im = Image.open(f_path)\n",
        "                  rgb_im = im.convert(\"RGB\")\n",
        "                  os.remove(f_path)\n",
        "                  rgb_im.save(f_path)\n",
        "                except:\n",
        "                  os.remove(f_path)\n",
        "\n",
        "source_dir =r'./Cats_Dogs_data'\n",
        "check_channels(source_dir)"
      ],
      "metadata": {
        "id": "2lA_yxUP4_PN",
        "colab": {
          "base_uri": "https://localhost:8080/"
        },
        "outputId": "9b4704d6-e22a-4423-c1bb-42da4439d4d8"
      },
      "id": "2lA_yxUP4_PN",
      "execution_count": null,
      "outputs": [
        {
          "output_type": "stream",
          "name": "stderr",
          "text": [
            "/usr/local/lib/python3.7/dist-packages/PIL/TiffImagePlugin.py:770: UserWarning: Possibly corrupt EXIF data.  Expecting to read 32 bytes but only got 0. Skipping tag 270\n",
            "  \" Skipping tag %s\" % (size, len(data), tag)\n",
            "/usr/local/lib/python3.7/dist-packages/PIL/TiffImagePlugin.py:770: UserWarning: Possibly corrupt EXIF data.  Expecting to read 5 bytes but only got 0. Skipping tag 271\n",
            "  \" Skipping tag %s\" % (size, len(data), tag)\n",
            "/usr/local/lib/python3.7/dist-packages/PIL/TiffImagePlugin.py:770: UserWarning: Possibly corrupt EXIF data.  Expecting to read 8 bytes but only got 0. Skipping tag 272\n",
            "  \" Skipping tag %s\" % (size, len(data), tag)\n",
            "/usr/local/lib/python3.7/dist-packages/PIL/TiffImagePlugin.py:770: UserWarning: Possibly corrupt EXIF data.  Expecting to read 8 bytes but only got 0. Skipping tag 282\n",
            "  \" Skipping tag %s\" % (size, len(data), tag)\n",
            "/usr/local/lib/python3.7/dist-packages/PIL/TiffImagePlugin.py:770: UserWarning: Possibly corrupt EXIF data.  Expecting to read 8 bytes but only got 0. Skipping tag 283\n",
            "  \" Skipping tag %s\" % (size, len(data), tag)\n",
            "/usr/local/lib/python3.7/dist-packages/PIL/TiffImagePlugin.py:770: UserWarning: Possibly corrupt EXIF data.  Expecting to read 20 bytes but only got 0. Skipping tag 306\n",
            "  \" Skipping tag %s\" % (size, len(data), tag)\n",
            "/usr/local/lib/python3.7/dist-packages/PIL/TiffImagePlugin.py:770: UserWarning: Possibly corrupt EXIF data.  Expecting to read 48 bytes but only got 0. Skipping tag 532\n",
            "  \" Skipping tag %s\" % (size, len(data), tag)\n",
            "/usr/local/lib/python3.7/dist-packages/PIL/TiffImagePlugin.py:788: UserWarning: Corrupt EXIF data.  Expecting to read 2 bytes but only got 0. \n",
            "  warnings.warn(str(msg))\n"
          ]
        }
      ]
    },
    {
      "cell_type": "markdown",
      "source": [
        "Assign a label to each file. The label is pointed out in the tite. "
      ],
      "metadata": {
        "id": "RysdaUI7sbMd"
      },
      "id": "RysdaUI7sbMd"
    },
    {
      "cell_type": "code",
      "source": [
        "for root, dirs, files in os.walk(os.environ[\"data_source\"]):\n",
        "    if not files:\n",
        "        continue\n",
        "    prefix = os.path.basename(root)\n",
        "    for f in files:\n",
        "        os.rename(os.path.join(root, f), os.path.join(root, \"{}_{}\".format(prefix, f)))\n"
      ],
      "metadata": {
        "id": "Ex4vhokGyMAk"
      },
      "id": "Ex4vhokGyMAk",
      "execution_count": null,
      "outputs": []
    },
    {
      "cell_type": "markdown",
      "source": [
        "Merge the \"Cats\" and \"Dogs\" subfolders into the main folder."
      ],
      "metadata": {
        "id": "_lMa0EcWwWoI"
      },
      "id": "_lMa0EcWwWoI"
    },
    {
      "cell_type": "code",
      "source": [
        "for (root, dirs, file) in os.walk(os.environ[\"data_source\"]):\n",
        "  for d in dirs:\n",
        "    for f in files:\n",
        "      try:\n",
        "        move(join(os.environ[\"data_source\"],d,d+'_'+f), join(os.environ[\"data_source\"],d+'_'+f))\n",
        "      except:\n",
        "        next\n",
        "\n",
        "\n",
        "!rm -rf \"./Cats_Dogs_data/Cats\"\n",
        "!rm -rf \"./Cats_Dogs_data/Dogs\"\n"
      ],
      "metadata": {
        "id": "wgsm7ZttFPG7"
      },
      "id": "wgsm7ZttFPG7",
      "execution_count": null,
      "outputs": []
    },
    {
      "cell_type": "markdown",
      "source": [
        "Count number of Cats and Dogs images."
      ],
      "metadata": {
        "id": "BWPTUTZ-w5Nn"
      },
      "id": "BWPTUTZ-w5Nn"
    },
    {
      "cell_type": "code",
      "source": [
        "list_of_fnames = os.listdir('./Cats_Dogs_data')\n",
        "print('Total number of of images in tmp/train is {0}'.format(len(list_of_fnames)))\n",
        "list_of_cats_fnames = [i for i in list_of_fnames if 'CAT' in i.upper()]\n",
        "list_of_dogs_fnames = [i for i in list_of_fnames if 'DOG' in i.upper()]\n",
        "TOTAL_CATS = len(list_of_cats_fnames)\n",
        "TOTAL_DOGS = len(list_of_dogs_fnames)\n",
        "print('{0} CATS images'.format(TOTAL_CATS))\n",
        "print('{0} DOGS images'.format(TOTAL_DOGS))"
      ],
      "metadata": {
        "id": "VACjq00TnKb6",
        "outputId": "dd7b7b06-83aa-433d-f3fe-24c5e14bdf88",
        "colab": {
          "base_uri": "https://localhost:8080/"
        }
      },
      "id": "VACjq00TnKb6",
      "execution_count": null,
      "outputs": [
        {
          "output_type": "stream",
          "name": "stdout",
          "text": [
            "Total number of of images in tmp/train is 24997\n",
            "12499 CATS images\n",
            "12498 DOGS images\n"
          ]
        }
      ]
    },
    {
      "cell_type": "markdown",
      "source": [
        "Prepare the folders to split Train and Test data."
      ],
      "metadata": {
        "id": "YCD2G3VJw8dI"
      },
      "id": "YCD2G3VJw8dI"
    },
    {
      "cell_type": "code",
      "source": [
        "os.makedirs(os.path.join(os.environ[\"data_source\"], 'train//Cats'))\n",
        "os.makedirs(os.path.join(os.environ[\"data_source\"], 'test_0//Cats'))\n",
        "os.makedirs(os.path.join(os.environ[\"data_source\"], 'train//Dogs'))\n",
        "os.makedirs(os.path.join(os.environ[\"data_source\"], 'test_0//Dogs'))\n",
        "train_dir = os.path.join(os.environ[\"data_source\"], 'train')\n",
        "test_dir_cats = os.path.join(os.environ[\"data_source\"], 'test_0//Cats')\n",
        "test_dir_dogs = os.path.join(os.environ[\"data_source\"], 'test_0//Dogs')\n"
      ],
      "metadata": {
        "id": "AkkslKgpOp75"
      },
      "id": "AkkslKgpOp75",
      "execution_count": null,
      "outputs": []
    },
    {
      "cell_type": "markdown",
      "source": [
        "Define global variables to set model parameters."
      ],
      "metadata": {
        "id": "6Pyex5xUxG_d"
      },
      "id": "6Pyex5xUxG_d"
    },
    {
      "cell_type": "code",
      "source": [
        "TRAIN_TEST_SPLIT_AT = 0.7\n",
        "BATCH_SIZE = 64\n",
        "TARGET_SIZE = (160, 160)\n",
        "NO_OF_EPOCHS = 1\n",
        "EXPERIMENT_SIZE = 12500\n",
        "NO_OF_FOLDS = 1"
      ],
      "metadata": {
        "id": "nqR5BTckPtkF"
      },
      "id": "nqR5BTckPtkF",
      "execution_count": null,
      "outputs": []
    },
    {
      "cell_type": "markdown",
      "source": [
        "Organize data into Train and Test folders."
      ],
      "metadata": {
        "id": "t4ZpYQxPxP87"
      },
      "id": "t4ZpYQxPxP87"
    },
    {
      "cell_type": "code",
      "source": [
        "from shutil import copyfile\n",
        "\n",
        "np.random.shuffle(list_of_cats_fnames)\n",
        "np.random.shuffle(list_of_dogs_fnames)\n",
        "\n",
        "tmp_train_dir = os.path.join(os.environ[\"data_source\"])\n",
        "c = 0\n",
        "n = 0\n",
        "for i in list_of_cats_fnames:\n",
        "    if c < (round(TRAIN_TEST_SPLIT_AT * EXPERIMENT_SIZE)):\n",
        "        copyfile(os.path.join(tmp_train_dir, i), os.path.join(train_dir, i))\n",
        "    else:\n",
        "      if len(os.listdir(f'./Cats_Dogs_data/test_{n}/Cats')) < 500:\n",
        "        copyfile(os.path.join(tmp_train_dir, i), os.path.join(test_dir_cats, i))\n",
        "      else:\n",
        "        n += 1\n",
        "        os.makedirs(os.path.join(os.environ[\"data_source\"], f'test_{n}//Cats'))\n",
        "        test_dir_cats = os.path.join(os.environ[\"data_source\"], f'test_{n}//Cats')\n",
        "        copyfile(os.path.join(tmp_train_dir, i), os.path.join(test_dir_cats, i))\n",
        "    c += 1\n",
        "    if c >= EXPERIMENT_SIZE:\n",
        "        break\n",
        "\n",
        "m = 0\n",
        "c = 0\n",
        "for i in list_of_dogs_fnames:\n",
        "    if c < (round(TRAIN_TEST_SPLIT_AT * EXPERIMENT_SIZE)):\n",
        "        copyfile(os.path.join(tmp_train_dir, i), os.path.join(train_dir, i))\n",
        "    else:\n",
        "      if len(os.listdir(f'./Cats_Dogs_data/test_{m}/Dogs')) < 500:\n",
        "        copyfile(os.path.join(tmp_train_dir, i), os.path.join(test_dir_dogs, i))\n",
        "      else:\n",
        "        m += 1\n",
        "        os.makedirs(os.path.join(os.environ[\"data_source\"], f'test_{m}//Dogs'))\n",
        "        test_dir_dogs = os.path.join(os.environ[\"data_source\"], f'test_{m}//Dogs')\n",
        "        copyfile(os.path.join(tmp_train_dir, i), os.path.join(test_dir_dogs, i))\n",
        "    c += 1\n",
        "    if c >= EXPERIMENT_SIZE:\n",
        "        break\n",
        "\n",
        "print('Total training images :', len(os.listdir(train_dir)))"
      ],
      "metadata": {
        "id": "AheF0PQUQn6_",
        "outputId": "18a16820-fd74-4a09-db76-215bfc67687a",
        "colab": {
          "base_uri": "https://localhost:8080/"
        }
      },
      "id": "AheF0PQUQn6_",
      "execution_count": null,
      "outputs": [
        {
          "output_type": "stream",
          "name": "stdout",
          "text": [
            "Total training images : 17502\n"
          ]
        }
      ]
    },
    {
      "cell_type": "markdown",
      "source": [
        "Define train files and labels."
      ],
      "metadata": {
        "id": "TU3gqGC6xYCG"
      },
      "id": "TU3gqGC6xYCG"
    },
    {
      "cell_type": "code",
      "source": [
        "train_X = [img_fname for img_fname in os.listdir(train_dir)]\n",
        "train_X = np.array(train_X)\n",
        "\n",
        "train_labels = [l.split('/')[-1].split('_')[0].strip('0123456789') for l in train_X]\n",
        "train_labels = np.array(train_labels)\n",
        " \n",
        "print ('Training shape:', train_X.shape, train_labels.shape) \n",
        " \n",
        "print(train_X[:5], train_labels[:5])"
      ],
      "metadata": {
        "id": "gg8eqwSfRWBF",
        "outputId": "3566f85c-bf4a-4b17-fc93-45c73db0eafb",
        "colab": {
          "base_uri": "https://localhost:8080/"
        }
      },
      "id": "gg8eqwSfRWBF",
      "execution_count": null,
      "outputs": [
        {
          "output_type": "stream",
          "name": "stdout",
          "text": [
            "Training shape: (17502,) (17502,)\n",
            "['Cats_4092.jpg' 'Cats_6243.jpg' 'Dogs_11673.jpg' 'Dogs_5976.jpg'\n",
            " 'Cats_6258.jpg'] ['Cats' 'Cats' 'Dogs' 'Dogs' 'Cats']\n"
          ]
        }
      ]
    },
    {
      "cell_type": "markdown",
      "source": [
        "Define the CNN model. "
      ],
      "metadata": {
        "id": "lO4NDa_4xfcr"
      },
      "id": "lO4NDa_4xfcr"
    },
    {
      "cell_type": "code",
      "source": [
        "def get_compiled_model():\n",
        "        ###Create CNN\n",
        "      ##Initialize the CNN\n",
        "    cnn = tf.keras.models.Sequential()\n",
        "     \n",
        "    #Convolution\n",
        "    cnn.add(tf.keras.layers.Conv2D(32, kernel_size=3, activation='relu',  input_shape = [160,160,3]))\n",
        "    #Pooling\n",
        "    cnn.add(tf.keras.layers.MaxPool2D(pool_size = 2, strides = 2))\n",
        "    #Convolution\n",
        "    cnn.add(tf.keras.layers.Conv2D(filters = 32, kernel_size = 3,  strides=2, activation = 'relu'))\n",
        "    #Pooling\n",
        "    cnn.add(tf.keras.layers.MaxPool2D(pool_size = 2, strides = 2))\n",
        "    #Convolution\n",
        "    cnn.add(tf.keras.layers.Conv2D(filters = 32, kernel_size = 3,  strides=2, activation = 'relu'))\n",
        "    #Pooling\n",
        "    cnn.add(tf.keras.layers.MaxPool2D(pool_size = 2, strides = 2))\n",
        "    #Flattening\n",
        "    cnn.add(tf.keras.layers.Flatten())\n",
        "    #Full Connection\n",
        "    cnn.add(tf.keras.layers.Dense(units = 256, activation = 'relu'))\n",
        "    #Output Layer\n",
        "    cnn.add(tf.keras.layers.Dense(units=1, activation = 'sigmoid'))\n",
        "    \n",
        "        ###Training CNN\n",
        "      ##Compiling the CNN\n",
        "    cnn.compile(loss='binary_crossentropy', optimizer='adam', metrics=['accuracy'])\n",
        "    return cnn\n"
      ],
      "metadata": {
        "id": "iouQhKEX0qHn"
      },
      "id": "iouQhKEX0qHn",
      "execution_count": null,
      "outputs": []
    },
    {
      "cell_type": "markdown",
      "source": [
        "Define Train and Validation datasets, implement the cross-validation technique and the fit command for the CNN model."
      ],
      "metadata": {
        "id": "xq5pmkjQxzzF"
      },
      "id": "xq5pmkjQxzzF"
    },
    {
      "cell_type": "code",
      "source": [
        "def train_and_cross_validate (model, x_data, y_data, n_folds=NO_OF_FOLDS, epochs=NO_OF_EPOCHS, batch_size=BATCH_SIZE):\n",
        "    # \n",
        "    scores = []\n",
        "    \n",
        "    #  Loading images through generators\n",
        "    train_datagen = ImageDataGenerator(rescale=1. / 255.,\n",
        "                                       rotation_range=40,\n",
        "                                       width_shift_range=0.2,\n",
        "                                       height_shift_range=0.2,\n",
        "                                       shear_range=0.2,\n",
        "                                       zoom_range=0.2,\n",
        "                                       horizontal_flip=True)    \n",
        "    validation_datagen = ImageDataGenerator(rescale=1. / 255)\n",
        "\n",
        "    # prepare cross validation\n",
        "    kfold = sklrn.KFold(n_folds, shuffle=True, random_state=1)\n",
        "    # enumerate splits\n",
        "    FoldsSetNo = 0 \n",
        "    for train_ix, test_ix in kfold.split(x_data):\n",
        "        print ('Folds Set # {0}'.format(FoldsSetNo))\n",
        "        # select rows for train and test\n",
        "        xx_train, yy_train, xx_test, yy_test = \\\n",
        "            x_data[train_ix], y_data[train_ix], x_data[test_ix], y_data[test_ix]\n",
        "\n",
        "     # flow training images in batches for the current folds set\n",
        "        # for training         \n",
        "        train_generator = train_datagen.flow_from_dataframe(\n",
        "            dataframe = pd.DataFrame({'id':xx_train,'label':yy_train}), \n",
        "            directory=train_dir, \n",
        "            x_col='id',\n",
        "            y_col='label',\n",
        "            batch_size=batch_size,\n",
        "            target_size=TARGET_SIZE,\n",
        "            class_mode='binary',\n",
        "            shuffle = False)\n",
        "        \n",
        "                # and for validation         \n",
        "        validation_generator = validation_datagen.flow_from_dataframe(\n",
        "            dataframe = pd.DataFrame({'id':xx_test,'label':yy_test}), \n",
        "            directory=train_dir, \n",
        "            x_col='id',\n",
        "            y_col='label',\n",
        "            batch_size=batch_size,\n",
        "            target_size=TARGET_SIZE,\n",
        "            class_mode='binary',\n",
        "            shuffle=False)\n",
        "\n",
        "\n",
        "        # fit the model\n",
        "        history = model.fit(train_generator,\n",
        "                            epochs=epochs,  # The more we train the more our model fits the data\n",
        "                            batch_size=batch_size,  # Smaller batch sizes = samller steps towards convergence\n",
        "                            validation_data=validation_generator,\n",
        "                            verbose=1)\n",
        "        # store scores\n",
        "        scores.append({'acc':np.average(history.history['accuracy']),'val_acc':np.average(history.history['val_accuracy']),'loss':np.average(history.history['loss']),'val_loss':np.average(history.history['val_loss'])})\n",
        "        FoldsSetNo +=1\n",
        "    return scores\n",
        "print('Starting training and k-fold cross validation ...')\n",
        "       \n"
      ],
      "metadata": {
        "id": "LVHzi9QM07nl",
        "outputId": "f0cd1b84-3519-4d15-f313-b4608f7ae630",
        "colab": {
          "base_uri": "https://localhost:8080/"
        }
      },
      "id": "LVHzi9QM07nl",
      "execution_count": null,
      "outputs": [
        {
          "output_type": "stream",
          "name": "stdout",
          "text": [
            "Starting training and k-fold cross validation ...\n"
          ]
        }
      ]
    },
    {
      "cell_type": "markdown",
      "source": [
        "Retrieve the compiled CNN Model and run the validation command."
      ],
      "metadata": {
        "id": "aTmW21oGyCKv"
      },
      "id": "aTmW21oGyCKv"
    },
    {
      "cell_type": "code",
      "source": [
        "model = get_compiled_model()\n",
        "scores = train_and_cross_validate(model, train_X, train_labels)"
      ],
      "metadata": {
        "id": "vR1ikWGr_Gvt",
        "outputId": "cfe12c87-170d-42d3-858c-98f9ce7b7156",
        "colab": {
          "base_uri": "https://localhost:8080/"
        }
      },
      "id": "vR1ikWGr_Gvt",
      "execution_count": null,
      "outputs": [
        {
          "output_type": "stream",
          "name": "stdout",
          "text": [
            "Folds Set # 0\n",
            "Found 14000 validated image filenames belonging to 2 classes.\n",
            "Found 3500 validated image filenames belonging to 2 classes.\n"
          ]
        },
        {
          "output_type": "stream",
          "name": "stderr",
          "text": [
            "/usr/local/lib/python3.7/dist-packages/keras_preprocessing/image/dataframe_iterator.py:282: UserWarning: Found 1 invalid image filename(s) in x_col=\"id\". These filename(s) will be ignored.\n",
            "  .format(n_invalid, x_col)\n"
          ]
        },
        {
          "output_type": "stream",
          "name": "stdout",
          "text": [
            "Epoch 1/15\n",
            "219/219 [==============================] - 125s 516ms/step - loss: 0.6791 - accuracy: 0.5583 - val_loss: 0.6429 - val_accuracy: 0.6323\n",
            "Epoch 2/15\n",
            "219/219 [==============================] - 111s 507ms/step - loss: 0.6360 - accuracy: 0.6316 - val_loss: 0.6108 - val_accuracy: 0.6766\n",
            "Epoch 3/15\n",
            "219/219 [==============================] - 112s 512ms/step - loss: 0.5967 - accuracy: 0.6794 - val_loss: 0.5390 - val_accuracy: 0.7377\n",
            "Epoch 4/15\n",
            "219/219 [==============================] - 112s 511ms/step - loss: 0.5586 - accuracy: 0.7134 - val_loss: 0.5322 - val_accuracy: 0.7280\n",
            "Epoch 5/15\n",
            "219/219 [==============================] - 112s 511ms/step - loss: 0.5420 - accuracy: 0.7251 - val_loss: 0.5085 - val_accuracy: 0.7534\n",
            "Epoch 6/15\n",
            "219/219 [==============================] - 112s 512ms/step - loss: 0.5309 - accuracy: 0.7294 - val_loss: 0.4728 - val_accuracy: 0.7749\n",
            "Epoch 7/15\n",
            "219/219 [==============================] - 111s 509ms/step - loss: 0.5228 - accuracy: 0.7410 - val_loss: 0.4778 - val_accuracy: 0.7789\n",
            "Epoch 8/15\n",
            "219/219 [==============================] - 112s 512ms/step - loss: 0.5065 - accuracy: 0.7494 - val_loss: 0.4392 - val_accuracy: 0.7966\n",
            "Epoch 9/15\n",
            "219/219 [==============================] - 112s 510ms/step - loss: 0.4993 - accuracy: 0.7536 - val_loss: 0.4719 - val_accuracy: 0.7886\n",
            "Epoch 10/15\n",
            "219/219 [==============================] - 112s 510ms/step - loss: 0.4968 - accuracy: 0.7591 - val_loss: 0.4313 - val_accuracy: 0.8051\n",
            "Epoch 11/15\n",
            "219/219 [==============================] - 111s 506ms/step - loss: 0.4876 - accuracy: 0.7609 - val_loss: 0.4217 - val_accuracy: 0.8154\n",
            "Epoch 12/15\n",
            "219/219 [==============================] - 112s 512ms/step - loss: 0.4853 - accuracy: 0.7634 - val_loss: 0.4229 - val_accuracy: 0.8077\n",
            "Epoch 13/15\n",
            "219/219 [==============================] - 112s 510ms/step - loss: 0.4721 - accuracy: 0.7711 - val_loss: 0.4529 - val_accuracy: 0.7880\n",
            "Epoch 14/15\n",
            "219/219 [==============================] - 111s 509ms/step - loss: 0.4744 - accuracy: 0.7714 - val_loss: 0.4161 - val_accuracy: 0.8166\n",
            "Epoch 15/15\n",
            "219/219 [==============================] - 110s 505ms/step - loss: 0.4617 - accuracy: 0.7773 - val_loss: 0.4007 - val_accuracy: 0.8186\n",
            "Folds Set # 1\n",
            "Found 13999 validated image filenames belonging to 2 classes.\n",
            "Found 3501 validated image filenames belonging to 2 classes.\n"
          ]
        },
        {
          "output_type": "stream",
          "name": "stderr",
          "text": [
            "/usr/local/lib/python3.7/dist-packages/keras_preprocessing/image/dataframe_iterator.py:282: UserWarning: Found 2 invalid image filename(s) in x_col=\"id\". These filename(s) will be ignored.\n",
            "  .format(n_invalid, x_col)\n"
          ]
        },
        {
          "output_type": "stream",
          "name": "stdout",
          "text": [
            "Epoch 1/15\n",
            "219/219 [==============================] - 112s 512ms/step - loss: 0.4597 - accuracy: 0.7828 - val_loss: 0.3926 - val_accuracy: 0.8255\n",
            "Epoch 2/15\n",
            "219/219 [==============================] - 111s 509ms/step - loss: 0.4487 - accuracy: 0.7878 - val_loss: 0.4008 - val_accuracy: 0.8183\n",
            "Epoch 3/15\n",
            "219/219 [==============================] - 111s 508ms/step - loss: 0.4476 - accuracy: 0.7926 - val_loss: 0.3866 - val_accuracy: 0.8243\n",
            "Epoch 4/15\n",
            "219/219 [==============================] - 111s 509ms/step - loss: 0.4442 - accuracy: 0.7886 - val_loss: 0.3982 - val_accuracy: 0.8212\n",
            "Epoch 5/15\n",
            "219/219 [==============================] - 110s 503ms/step - loss: 0.4429 - accuracy: 0.7853 - val_loss: 0.3759 - val_accuracy: 0.8315\n",
            "Epoch 6/15\n",
            "219/219 [==============================] - 112s 511ms/step - loss: 0.4354 - accuracy: 0.7953 - val_loss: 0.3807 - val_accuracy: 0.8292\n",
            "Epoch 7/15\n",
            "219/219 [==============================] - 111s 508ms/step - loss: 0.4306 - accuracy: 0.7963 - val_loss: 0.3772 - val_accuracy: 0.8346\n",
            "Epoch 8/15\n",
            "219/219 [==============================] - 111s 507ms/step - loss: 0.4233 - accuracy: 0.8042 - val_loss: 0.3817 - val_accuracy: 0.8269\n",
            "Epoch 9/15\n",
            "219/219 [==============================] - 111s 506ms/step - loss: 0.4213 - accuracy: 0.8063 - val_loss: 0.3586 - val_accuracy: 0.8435\n",
            "Epoch 10/15\n",
            "219/219 [==============================] - 111s 508ms/step - loss: 0.4116 - accuracy: 0.8096 - val_loss: 0.3695 - val_accuracy: 0.8360\n",
            "Epoch 11/15\n",
            "219/219 [==============================] - 112s 509ms/step - loss: 0.4179 - accuracy: 0.8066 - val_loss: 0.3831 - val_accuracy: 0.8278\n",
            "Epoch 12/15\n",
            "219/219 [==============================] - 112s 514ms/step - loss: 0.4059 - accuracy: 0.8128 - val_loss: 0.3680 - val_accuracy: 0.8369\n",
            "Epoch 13/15\n",
            "219/219 [==============================] - 113s 516ms/step - loss: 0.4072 - accuracy: 0.8113 - val_loss: 0.3535 - val_accuracy: 0.8472\n",
            "Epoch 14/15\n",
            "219/219 [==============================] - 113s 515ms/step - loss: 0.4012 - accuracy: 0.8191 - val_loss: 0.3629 - val_accuracy: 0.8369\n",
            "Epoch 15/15\n",
            "219/219 [==============================] - 112s 512ms/step - loss: 0.3984 - accuracy: 0.8177 - val_loss: 0.4075 - val_accuracy: 0.8155\n",
            "Folds Set # 2\n",
            "Found 14001 validated image filenames belonging to 2 classes.\n",
            "Found 3499 validated image filenames belonging to 2 classes.\n",
            "Epoch 1/15\n",
            "219/219 [==============================] - 112s 511ms/step - loss: 0.4029 - accuracy: 0.8138 - val_loss: 0.3483 - val_accuracy: 0.8420\n",
            "Epoch 2/15\n",
            "219/219 [==============================] - 112s 514ms/step - loss: 0.3982 - accuracy: 0.8197 - val_loss: 0.3375 - val_accuracy: 0.8577\n",
            "Epoch 3/15\n",
            "219/219 [==============================] - 112s 512ms/step - loss: 0.3985 - accuracy: 0.8188 - val_loss: 0.3227 - val_accuracy: 0.8580\n",
            "Epoch 4/15\n",
            "219/219 [==============================] - 112s 513ms/step - loss: 0.3954 - accuracy: 0.8243 - val_loss: 0.3431 - val_accuracy: 0.8431\n",
            "Epoch 5/15\n",
            "219/219 [==============================] - 112s 514ms/step - loss: 0.3865 - accuracy: 0.8211 - val_loss: 0.3316 - val_accuracy: 0.8568\n",
            "Epoch 6/15\n",
            "219/219 [==============================] - 111s 508ms/step - loss: 0.3852 - accuracy: 0.8256 - val_loss: 0.3202 - val_accuracy: 0.8597\n",
            "Epoch 7/15\n",
            "219/219 [==============================] - 111s 508ms/step - loss: 0.3876 - accuracy: 0.8244 - val_loss: 0.3474 - val_accuracy: 0.8440\n",
            "Epoch 8/15\n",
            "219/219 [==============================] - 113s 517ms/step - loss: 0.3859 - accuracy: 0.8234 - val_loss: 0.3307 - val_accuracy: 0.8548\n",
            "Epoch 9/15\n",
            "219/219 [==============================] - 112s 512ms/step - loss: 0.3741 - accuracy: 0.8294 - val_loss: 0.3997 - val_accuracy: 0.8159\n",
            "Epoch 10/15\n",
            "219/219 [==============================] - 112s 509ms/step - loss: 0.3747 - accuracy: 0.8330 - val_loss: 0.3436 - val_accuracy: 0.8431\n",
            "Epoch 11/15\n",
            "219/219 [==============================] - 112s 510ms/step - loss: 0.3781 - accuracy: 0.8311 - val_loss: 0.3360 - val_accuracy: 0.8488\n",
            "Epoch 12/15\n",
            "219/219 [==============================] - 111s 505ms/step - loss: 0.3699 - accuracy: 0.8338 - val_loss: 0.3195 - val_accuracy: 0.8600\n",
            "Epoch 13/15\n",
            "219/219 [==============================] - 112s 509ms/step - loss: 0.3693 - accuracy: 0.8333 - val_loss: 0.3258 - val_accuracy: 0.8554\n",
            "Epoch 14/15\n",
            "219/219 [==============================] - 112s 510ms/step - loss: 0.3629 - accuracy: 0.8387 - val_loss: 0.3343 - val_accuracy: 0.8500\n",
            "Epoch 15/15\n",
            "219/219 [==============================] - 112s 510ms/step - loss: 0.3602 - accuracy: 0.8378 - val_loss: 0.3128 - val_accuracy: 0.8628\n",
            "Folds Set # 3\n",
            "Found 14000 validated image filenames belonging to 2 classes.\n",
            "Found 3500 validated image filenames belonging to 2 classes.\n",
            "Epoch 1/15\n",
            "219/219 [==============================] - 112s 512ms/step - loss: 0.3722 - accuracy: 0.8344 - val_loss: 0.2982 - val_accuracy: 0.8783\n",
            "Epoch 2/15\n",
            "219/219 [==============================] - 111s 507ms/step - loss: 0.3585 - accuracy: 0.8429 - val_loss: 0.2948 - val_accuracy: 0.8797\n",
            "Epoch 3/15\n",
            "219/219 [==============================] - 113s 516ms/step - loss: 0.3623 - accuracy: 0.8363 - val_loss: 0.3284 - val_accuracy: 0.8629\n",
            "Epoch 4/15\n",
            "219/219 [==============================] - 113s 515ms/step - loss: 0.3543 - accuracy: 0.8418 - val_loss: 0.2971 - val_accuracy: 0.8691\n",
            "Epoch 5/15\n",
            "219/219 [==============================] - 113s 516ms/step - loss: 0.3538 - accuracy: 0.8390 - val_loss: 0.3011 - val_accuracy: 0.8766\n",
            "Epoch 6/15\n",
            "219/219 [==============================] - 112s 512ms/step - loss: 0.3501 - accuracy: 0.8454 - val_loss: 0.3202 - val_accuracy: 0.8631\n",
            "Epoch 7/15\n",
            "219/219 [==============================] - 113s 517ms/step - loss: 0.3471 - accuracy: 0.8431 - val_loss: 0.2804 - val_accuracy: 0.8797\n",
            "Epoch 8/15\n",
            "219/219 [==============================] - 111s 509ms/step - loss: 0.3477 - accuracy: 0.8456 - val_loss: 0.2860 - val_accuracy: 0.8763\n",
            "Epoch 9/15\n",
            "219/219 [==============================] - 112s 513ms/step - loss: 0.3467 - accuracy: 0.8446 - val_loss: 0.3106 - val_accuracy: 0.8706\n",
            "Epoch 10/15\n",
            "219/219 [==============================] - 112s 512ms/step - loss: 0.3429 - accuracy: 0.8467 - val_loss: 0.2897 - val_accuracy: 0.8766\n",
            "Epoch 11/15\n",
            "219/219 [==============================] - 113s 514ms/step - loss: 0.3426 - accuracy: 0.8474 - val_loss: 0.2909 - val_accuracy: 0.8789\n",
            "Epoch 12/15\n",
            "219/219 [==============================] - 112s 514ms/step - loss: 0.3436 - accuracy: 0.8472 - val_loss: 0.2924 - val_accuracy: 0.8749\n",
            "Epoch 13/15\n",
            "219/219 [==============================] - 111s 509ms/step - loss: 0.3343 - accuracy: 0.8513 - val_loss: 0.3057 - val_accuracy: 0.8691\n",
            "Epoch 14/15\n",
            "219/219 [==============================] - 111s 506ms/step - loss: 0.3424 - accuracy: 0.8461 - val_loss: 0.3077 - val_accuracy: 0.8711\n",
            "Epoch 15/15\n",
            "219/219 [==============================] - 112s 511ms/step - loss: 0.3321 - accuracy: 0.8524 - val_loss: 0.2960 - val_accuracy: 0.8751\n",
            "Folds Set # 4\n",
            "Found 14000 validated image filenames belonging to 2 classes.\n",
            "Found 3500 validated image filenames belonging to 2 classes.\n",
            "Epoch 1/15\n",
            "219/219 [==============================] - 112s 512ms/step - loss: 0.3316 - accuracy: 0.8555 - val_loss: 0.2669 - val_accuracy: 0.8843\n",
            "Epoch 2/15\n",
            "219/219 [==============================] - 112s 510ms/step - loss: 0.3259 - accuracy: 0.8580 - val_loss: 0.2573 - val_accuracy: 0.8920\n",
            "Epoch 3/15\n",
            "219/219 [==============================] - 112s 511ms/step - loss: 0.3287 - accuracy: 0.8536 - val_loss: 0.2633 - val_accuracy: 0.8883\n",
            "Epoch 4/15\n",
            "219/219 [==============================] - 112s 513ms/step - loss: 0.3314 - accuracy: 0.8496 - val_loss: 0.2777 - val_accuracy: 0.8797\n",
            "Epoch 5/15\n",
            "219/219 [==============================] - 112s 512ms/step - loss: 0.3318 - accuracy: 0.8555 - val_loss: 0.2599 - val_accuracy: 0.8920\n",
            "Epoch 6/15\n",
            "219/219 [==============================] - 111s 507ms/step - loss: 0.3190 - accuracy: 0.8599 - val_loss: 0.2796 - val_accuracy: 0.8786\n",
            "Epoch 7/15\n",
            "219/219 [==============================] - 112s 510ms/step - loss: 0.3315 - accuracy: 0.8526 - val_loss: 0.2717 - val_accuracy: 0.8851\n",
            "Epoch 8/15\n",
            "219/219 [==============================] - 113s 515ms/step - loss: 0.3214 - accuracy: 0.8574 - val_loss: 0.2784 - val_accuracy: 0.8831\n",
            "Epoch 9/15\n",
            "219/219 [==============================] - 112s 511ms/step - loss: 0.3254 - accuracy: 0.8554 - val_loss: 0.2895 - val_accuracy: 0.8754\n",
            "Epoch 10/15\n",
            "219/219 [==============================] - 112s 512ms/step - loss: 0.3167 - accuracy: 0.8608 - val_loss: 0.2708 - val_accuracy: 0.8851\n",
            "Epoch 11/15\n",
            "219/219 [==============================] - 113s 515ms/step - loss: 0.3263 - accuracy: 0.8521 - val_loss: 0.2612 - val_accuracy: 0.8903\n",
            "Epoch 12/15\n",
            "219/219 [==============================] - 111s 509ms/step - loss: 0.3222 - accuracy: 0.8579 - val_loss: 0.2503 - val_accuracy: 0.8923\n",
            "Epoch 13/15\n",
            "219/219 [==============================] - 113s 514ms/step - loss: 0.3192 - accuracy: 0.8592 - val_loss: 0.2940 - val_accuracy: 0.8723\n",
            "Epoch 14/15\n",
            "219/219 [==============================] - 112s 512ms/step - loss: 0.3153 - accuracy: 0.8630 - val_loss: 0.2574 - val_accuracy: 0.8874\n",
            "Epoch 15/15\n",
            "219/219 [==============================] - 112s 510ms/step - loss: 0.3115 - accuracy: 0.8636 - val_loss: 0.2653 - val_accuracy: 0.8889\n"
          ]
        }
      ]
    },
    {
      "cell_type": "markdown",
      "source": [
        "Plot the Train and Validation loss and accuracy graph."
      ],
      "metadata": {
        "id": "pDGkVCWRyT8U"
      },
      "id": "pDGkVCWRyT8U"
    },
    {
      "cell_type": "code",
      "source": [
        "from matplotlib import pyplot as plt\n",
        "\n",
        "# summarize history for accuracy\n",
        "# print(scores)\n",
        "acc = []\n",
        "val_acc = []\n",
        "loss_ = []\n",
        "val_loss_ = []\n",
        "\n",
        "for s in scores:\n",
        "    acc.append(s['acc'])\n",
        "    val_acc.append(s['val_acc'])\n",
        "    loss_.append(s['loss'])\n",
        "    val_loss_.append(s['val_loss'])    \n",
        "\n",
        "\n",
        "plt.figure(figsize=(8, 8))\n",
        "plt.subplot(2, 1, 1)\n",
        "plt.plot(acc, label='Training Accuracy', color = 'gray',linestyle='dashed')\n",
        "plt.plot(val_acc, label='Validation Accuracy', color = 'black')\n",
        "plt.ylim([0.5, 1])\n",
        "plt.legend(loc='lower right')\n",
        "plt.title('Training and Validation Accuracy')\n",
        "\n",
        "plt.subplot(2, 1, 2)\n",
        "plt.plot(loss_, label='Training Loss', color = 'gray',linestyle='dashed')\n",
        "plt.plot(val_loss_, label='Validation Loss', color = 'black')\n",
        "plt.ylim([0, 1.0])\n",
        "plt.legend(loc='upper right')\n",
        "plt.title('Training and Validation Loss')\n",
        "plt.xlabel('epoch')\n",
        "plt.show()"
      ],
      "metadata": {
        "id": "B3yJQc7HFzjr",
        "outputId": "37ec4f68-d13b-4422-fde7-673adbe65932",
        "colab": {
          "base_uri": "https://localhost:8080/",
          "height": 513
        }
      },
      "id": "B3yJQc7HFzjr",
      "execution_count": null,
      "outputs": [
        {
          "output_type": "display_data",
          "data": {
            "text/plain": [
              "<Figure size 576x576 with 2 Axes>"
            ],
            "image/png": "[encoded data removed]"
          },
          "metadata": {
            "needs_background": "light"
          }
        }
      ]
    },
    {
      "cell_type": "markdown",
      "source": [
        "Split raw data and labels from test dataset and predict binary classification using the trained model."
      ],
      "metadata": {
        "id": "oVF5dXjkyiI4"
      },
      "id": "oVF5dXjkyiI4"
    },
    {
      "cell_type": "code",
      "source": [
        "evalutaion_batch_size =1000\n",
        "\n",
        "y_true = []\n",
        "y_pred = []\n",
        "#y_pred_NEW = []\n",
        "#y_true_NEW = []\n",
        "\n",
        "for i in range(n+1):\n",
        "  evaluation_dataset = tf.keras.preprocessing.image_dataset_from_directory(\n",
        "      f'.//Cats_Dogs_data//test_{i}',\n",
        "      shuffle=True,\n",
        "      batch_size = evalutaion_batch_size,\n",
        "      image_size = (160,160))\n",
        "  \n",
        "  image_batch, label_batch = evaluation_dataset.as_numpy_iterator().next()\n",
        "  predictions = model.predict_on_batch(image_batch).flatten()\n",
        "  \n",
        "  image_batch = tf.where(predictions > 0.51, 1, 0)\n",
        "  #y_pred.append(image_batch)\n",
        "  #y_true.append(label_batch)\n",
        "  y_pred = np.concatenate((y_pred, image_batch), axis = 0)\n",
        "  y_true = np.concatenate((y_true, label_batch), axis = 0)"
      ],
      "metadata": {
        "id": "sp26DkTuWWlr",
        "outputId": "96b787db-039f-43ff-f9ef-d41102932e3b",
        "colab": {
          "base_uri": "https://localhost:8080/"
        }
      },
      "id": "sp26DkTuWWlr",
      "execution_count": null,
      "outputs": [
        {
          "output_type": "stream",
          "name": "stdout",
          "text": [
            "Found 1000 files belonging to 2 classes.\n",
            "Found 1000 files belonging to 2 classes.\n",
            "Found 1000 files belonging to 2 classes.\n",
            "Found 1000 files belonging to 2 classes.\n",
            "Found 1000 files belonging to 2 classes.\n",
            "Found 1000 files belonging to 2 classes.\n",
            "Found 1000 files belonging to 2 classes.\n",
            "Found 497 files belonging to 2 classes.\n"
          ]
        }
      ]
    },
    {
      "cell_type": "markdown",
      "source": [
        "Compare predicted values and real label, compute the performance of the model employing the zero one loss function"
      ],
      "metadata": {
        "id": "LSL1L6gu0fm5"
      },
      "id": "LSL1L6gu0fm5"
    },
    {
      "cell_type": "code",
      "source": [
        "from sklearn.metrics import zero_one_loss\n",
        "\n",
        "zero_one_loss(y_true, y_pred, normalize=True)"
      ],
      "metadata": {
        "id": "SgBYOxD4KEXf",
        "outputId": "ceee85e8-fd16-46ca-9f29-dfa457c1c7cb",
        "colab": {
          "base_uri": "https://localhost:8080/"
        }
      },
      "id": "SgBYOxD4KEXf",
      "execution_count": null,
      "outputs": [
        {
          "output_type": "execute_result",
          "data": {
            "text/plain": [
              "0.23582766439909297"
            ]
          },
          "metadata": {},
          "execution_count": 16
        }
      ]
    },
    {
      "cell_type": "code",
      "source": [
        "evalutaion_batch_size =1000\n",
        "\n",
        "\n",
        "\n",
        "evaluation_dataset = tf.keras.preprocessing.image_dataset_from_directory(\n",
        "    './/Cats_Dogs_data//test_0',\n",
        "    shuffle=True,\n",
        "    batch_size = evalutaion_batch_size,\n",
        "    image_size = (160,160))\n",
        "  \n",
        "image_batch, label_batch = evaluation_dataset.as_numpy_iterator().next()\n",
        "predictions = model.predict_on_batch(image_batch).flatten()\n",
        "  \n",
        "#image_batch = tf.where(predictions > 0.51, 1, 0)\n",
        "  #y_pred.append(image_batch)\n",
        "  #y_true.append(label_batch)\n",
        "  #y_pred = np.concatenate((y_pred, image_batch), axis = 0)\n",
        "  #y_true = np.concatenate((y_true, label_batch), axis = 0)\n",
        "\n",
        "\n",
        "#predictions = (predictions - min(predictions)) / ( max(predictions)- min(predictions))\n",
        "#predictions = np.random.uniform(-1, 1,12)\n",
        "predictions = tf.nn.sigmoid(predictions)\n",
        "predictions = tf.where(predictions > 0.51, 1, 0)\n",
        "\n",
        "\n",
        "print('Predictions:\\n', predictions.numpy())\n",
        "print('Labels:\\n', label_batch)\n",
        "\n",
        "plt.figure(figsize=(12, 12))\n",
        "for i in range(9):\n",
        "    ax = plt.subplot(3, 3, i + 1)\n",
        "    plt.imshow(image_batch[i].astype(\"uint8\"))\n",
        "    plt.title(class_names[predictions[i]])\n",
        "    plt.axis(\"off\")"
      ],
      "metadata": {
        "id": "WbSj91p7AjLB"
      },
      "id": "WbSj91p7AjLB",
      "execution_count": null,
      "outputs": []
    }
  ],
  "metadata": {
    "kernelspec": {
      "display_name": "Python 3 (ipykernel)",
      "language": "python",
      "name": "python3"
    },
    "language_info": {
      "codemirror_mode": {
        "name": "ipython",
        "version": 3
      },
      "file_extension": ".py",
      "mimetype": "text/x-python",
      "name": "python",
      "nbconvert_exporter": "python",
      "pygments_lexer": "ipython3",
      "version": "3.9.7"
    },
    "colab": {
      "name": "Copy of Downloads.ipynb",
      "provenance": [],
      "include_colab_link": true
    },
    "accelerator": "GPU"
  },
  "nbformat": 4,
  "nbformat_minor": 5
}